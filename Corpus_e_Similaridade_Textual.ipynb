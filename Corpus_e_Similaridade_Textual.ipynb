{
  "nbformat": 4,
  "nbformat_minor": 0,
  "metadata": {
    "colab": {
      "provenance": [],
      "authorship_tag": "ABX9TyOe7O1W88Pk/aMEXufxh6vO",
      "include_colab_link": true
    },
    "kernelspec": {
      "name": "python3",
      "display_name": "Python 3"
    },
    "language_info": {
      "name": "python"
    }
  },
  "cells": [
    {
      "cell_type": "markdown",
      "metadata": {
        "id": "view-in-github",
        "colab_type": "text"
      },
      "source": [
        "<a href=\"https://colab.research.google.com/github/querenneves/NLTK/blob/main/Corpus_e_Similaridade_Textual.ipynb\" target=\"_parent\"><img src=\"https://colab.research.google.com/assets/colab-badge.svg\" alt=\"Open In Colab\"/></a>"
      ]
    },
    {
      "cell_type": "code",
      "execution_count": 7,
      "metadata": {
        "id": "jzKdu2p5ePKr"
      },
      "outputs": [],
      "source": [
        "poema = \"\"\"E agora, José?\n",
        "A festa acabou,\n",
        "a luz apagou,\n",
        "o povo sumiu,\n",
        "a noite esfriou,\n",
        "e agora, José?\n",
        "e agora, você?\n",
        "você que é sem nome,\n",
        "que zomba dos outros,\n",
        "você que faz versos,\n",
        "que ama, protesta?\n",
        "e agora, José?\n",
        "\n",
        "Está sem mulher,\n",
        "está sem discurso,\n",
        "está sem carinho,\n",
        "já não pode beber,\n",
        "já não pode fumar,\n",
        "cuspir já não pode,\n",
        "a noite esfriou,\n",
        "o dia não veio,\n",
        "o bonde não veio,\n",
        "o riso não veio,\n",
        "não veio a utopia\n",
        "e tudo acabou\n",
        "e tudo fugiu\n",
        "e tudo mofou,\n",
        "e agora, José?\n",
        "\n",
        "E agora, José?\n",
        "Sua doce palavra,\n",
        "seu instante de febre,\n",
        "sua gula e jejum,\n",
        "sua biblioteca,\n",
        "sua lavra de ouro,\n",
        "seu terno de vidro,\n",
        "sua incoerência,\n",
        "seu ódio - e agora?\n",
        "\n",
        "Com a chave na mão\n",
        "quer abrir a porta,\n",
        "não existe porta;\n",
        "quer morrer no mar,\n",
        "mas o mar secou;\n",
        "quer ir para Minas,\n",
        "Minas não há mais.\n",
        "José, e agora?\n",
        "\n",
        "Se você gritasse,\n",
        "se você gemesse,\n",
        "se você tocasse\n",
        "a valsa vienense,\n",
        "se você dormisse,\n",
        "se você cansasse,\n",
        "se você morresse...\n",
        "Mas você não morre,\n",
        "você é duro, José!\n",
        "\n",
        "Sozinho no escuro\n",
        "qual bicho-do-mato,\n",
        "sem teogonia,\n",
        "sem parede nua\n",
        "para se encostar,\n",
        "sem cavalo preto\n",
        "que fuja a galope,\n",
        "você marcha, José!\n",
        "José, para onde?\"\"\""
      ]
    },
    {
      "cell_type": "code",
      "source": [
        "import nltk\n",
        "from nltk import tokenize\n",
        "nltk.download('punkt') # necessário para baixar o tokenizador\n",
        "nltk.download('punkt_tab', quiet=True) # necessário para baixar o tokenizador para português"
      ],
      "metadata": {
        "colab": {
          "base_uri": "https://localhost:8080/"
        },
        "id": "vDVJzZljefEz",
        "outputId": "7dffcd3c-2019-47ae-b38d-a388a095304e"
      },
      "execution_count": 12,
      "outputs": [
        {
          "output_type": "stream",
          "name": "stderr",
          "text": [
            "[nltk_data] Downloading package punkt to /root/nltk_data...\n",
            "[nltk_data]   Package punkt is already up-to-date!\n"
          ]
        },
        {
          "output_type": "execute_result",
          "data": {
            "text/plain": [
              "True"
            ]
          },
          "metadata": {},
          "execution_count": 12
        }
      ]
    },
    {
      "cell_type": "markdown",
      "source": [
        "Contagem de **Tokens**"
      ],
      "metadata": {
        "id": "w68TVcDsex2L"
      }
    },
    {
      "cell_type": "code",
      "source": [
        "tokens = tokenize.word_tokenize(poema, language=\"portuguese\")\n",
        "minusculas = tokenize.word_tokenize(poema.lower(), language=\"portuguese\")\n",
        "\n",
        "vocabulario = set(minusculas)\n",
        "\n",
        "print(\"Quantidade de tokens: \",len(tokens))\n",
        "print(\"Quantidade de types: \",len(vocabulario))"
      ],
      "metadata": {
        "colab": {
          "base_uri": "https://localhost:8080/"
        },
        "id": "mIUdzP6Ke3Mr",
        "outputId": "a999e404-27b3-46c1-c3bd-043488551465"
      },
      "execution_count": 13,
      "outputs": [
        {
          "output_type": "stream",
          "name": "stdout",
          "text": [
            "Quantidade de tokens:  274\n",
            "Quantidade de types:  109\n"
          ]
        }
      ]
    },
    {
      "cell_type": "code",
      "source": [
        "print(tokens)\n",
        "print(len(tokens))"
      ],
      "metadata": {
        "colab": {
          "base_uri": "https://localhost:8080/"
        },
        "id": "tYu2gsbYfHEr",
        "outputId": "c0ba0041-04ee-463a-8e2e-98b7bfb217d2"
      },
      "execution_count": 14,
      "outputs": [
        {
          "output_type": "stream",
          "name": "stdout",
          "text": [
            "['E', 'agora', ',', 'José', '?', 'A', 'festa', 'acabou', ',', 'a', 'luz', 'apagou', ',', 'o', 'povo', 'sumiu', ',', 'a', 'noite', 'esfriou', ',', 'e', 'agora', ',', 'José', '?', 'e', 'agora', ',', 'você', '?', 'você', 'que', 'é', 'sem', 'nome', ',', 'que', 'zomba', 'dos', 'outros', ',', 'você', 'que', 'faz', 'versos', ',', 'que', 'ama', ',', 'protesta', '?', 'e', 'agora', ',', 'José', '?', 'Está', 'sem', 'mulher', ',', 'está', 'sem', 'discurso', ',', 'está', 'sem', 'carinho', ',', 'já', 'não', 'pode', 'beber', ',', 'já', 'não', 'pode', 'fumar', ',', 'cuspir', 'já', 'não', 'pode', ',', 'a', 'noite', 'esfriou', ',', 'o', 'dia', 'não', 'veio', ',', 'o', 'bonde', 'não', 'veio', ',', 'o', 'riso', 'não', 'veio', ',', 'não', 'veio', 'a', 'utopia', 'e', 'tudo', 'acabou', 'e', 'tudo', 'fugiu', 'e', 'tudo', 'mofou', ',', 'e', 'agora', ',', 'José', '?', 'E', 'agora', ',', 'José', '?', 'Sua', 'doce', 'palavra', ',', 'seu', 'instante', 'de', 'febre', ',', 'sua', 'gula', 'e', 'jejum', ',', 'sua', 'biblioteca', ',', 'sua', 'lavra', 'de', 'ouro', ',', 'seu', 'terno', 'de', 'vidro', ',', 'sua', 'incoerência', ',', 'seu', 'ódio', '-', 'e', 'agora', '?', 'Com', 'a', 'chave', 'na', 'mão', 'quer', 'abrir', 'a', 'porta', ',', 'não', 'existe', 'porta', ';', 'quer', 'morrer', 'no', 'mar', ',', 'mas', 'o', 'mar', 'secou', ';', 'quer', 'ir', 'para', 'Minas', ',', 'Minas', 'não', 'há', 'mais', '.', 'José', ',', 'e', 'agora', '?', 'Se', 'você', 'gritasse', ',', 'se', 'você', 'gemesse', ',', 'se', 'você', 'tocasse', 'a', 'valsa', 'vienense', ',', 'se', 'você', 'dormisse', ',', 'se', 'você', 'cansasse', ',', 'se', 'você', 'morresse', '...', 'Mas', 'você', 'não', 'morre', ',', 'você', 'é', 'duro', ',', 'José', '!', 'Sozinho', 'no', 'escuro', 'qual', 'bicho-do-mato', ',', 'sem', 'teogonia', ',', 'sem', 'parede', 'nua', 'para', 'se', 'encostar', ',', 'sem', 'cavalo', 'preto', 'que', 'fuja', 'a', 'galope', ',', 'você', 'marcha', ',', 'José', '!', 'José', ',', 'para', 'onde', '?']\n",
            "274\n"
          ]
        }
      ]
    },
    {
      "cell_type": "code",
      "source": [
        "print(vocabulario)\n",
        "print(len(vocabulario))"
      ],
      "metadata": {
        "colab": {
          "base_uri": "https://localhost:8080/"
        },
        "id": "Az8oRK-NfKIr",
        "outputId": "bbfe172b-ec1d-4967-b2c3-33491b1df0f2"
      },
      "execution_count": 15,
      "outputs": [
        {
          "output_type": "stream",
          "name": "stdout",
          "text": [
            "{'valsa', 'noite', '...', 'riso', 'utopia', 'palavra', 'discurso', 'gula', 'a', 'marcha', 'nua', 'instante', 'mas', 'morresse', 'morrer', 'gemesse', 'de', 'incoerência', 'festa', 'duro', 'e', ';', 'já', 'ouro', 'sem', 'acabou', 'porta', 'não', 'versos', 'mulher', 'apagou', 'terno', 'onde', 'encostar', 'há', 'você', 'sozinho', '.', '!', 'ódio', 'que', 'outros', 'mofou', 'para', '?', 'está', 'pode', 'gritasse', 'quer', 'ir', 'josé', 'fugiu', '-', 'se', 'teogonia', 'galope', 'jejum', 'luz', 'febre', 'doce', 'parede', 'mão', 'existe', 'nome', 'bonde', 'cavalo', 'biblioteca', ',', 'é', 'minas', 'agora', 'veio', 'fuja', 'dia', 'dos', 'carinho', 'chave', 'mar', 'abrir', 'seu', 'tudo', 'faz', 'preto', 'morre', 'no', 'o', 'cansasse', 'povo', 'sumiu', 'beber', 'lavra', 'escuro', 'zomba', 'com', 'mais', 'tocasse', 'qual', 'protesta', 'bicho-do-mato', 'esfriou', 'vidro', 'na', 'secou', 'fumar', 'cuspir', 'dormisse', 'ama', 'vienense', 'sua'}\n",
            "109\n"
          ]
        }
      ]
    },
    {
      "cell_type": "markdown",
      "source": [
        "Segmentação de sentenças"
      ],
      "metadata": {
        "id": "eMjX3O0jfQ-l"
      }
    },
    {
      "cell_type": "code",
      "source": [
        "sentencas = nltk.sent_tokenize(poema, language=\"portuguese\")\n",
        "print(sentencas)\n",
        "print(len(sentencas))"
      ],
      "metadata": {
        "colab": {
          "base_uri": "https://localhost:8080/"
        },
        "id": "QZM_l1LMfSri",
        "outputId": "96e4dfc7-57b7-43d4-d57a-2ed03f5ffe51"
      },
      "execution_count": 16,
      "outputs": [
        {
          "output_type": "stream",
          "name": "stdout",
          "text": [
            "['E agora, José?', 'A festa acabou,\\na luz apagou,\\no povo sumiu,\\na noite esfriou,\\ne agora, José?', 'e agora, você?', 'você que é sem nome,\\nque zomba dos outros,\\nvocê que faz versos,\\nque ama, protesta?', 'e agora, José?', 'Está sem mulher,\\nestá sem discurso,\\nestá sem carinho,\\njá não pode beber,\\njá não pode fumar,\\ncuspir já não pode,\\na noite esfriou,\\no dia não veio,\\no bonde não veio,\\no riso não veio,\\nnão veio a utopia\\ne tudo acabou\\ne tudo fugiu\\ne tudo mofou,\\ne agora, José?', 'E agora, José?', 'Sua doce palavra,\\nseu instante de febre,\\nsua gula e jejum,\\nsua biblioteca,\\nsua lavra de ouro,\\nseu terno de vidro,\\nsua incoerência,\\nseu ódio - e agora?', 'Com a chave na mão\\nquer abrir a porta,\\nnão existe porta;\\nquer morrer no mar,\\nmas o mar secou;\\nquer ir para Minas,\\nMinas não há mais.', 'José, e agora?', 'Se você gritasse,\\nse você gemesse,\\nse você tocasse\\na valsa vienense,\\nse você dormisse,\\nse você cansasse,\\nse você morresse...', 'Mas você não morre,\\nvocê é duro, José!', 'Sozinho no escuro\\nqual bicho-do-mato,\\nsem teogonia,\\nsem parede nua\\npara se encostar,\\nsem cavalo preto\\nque fuja a galope,\\nvocê marcha, José!', 'José, para onde?']\n",
            "14\n"
          ]
        }
      ]
    },
    {
      "cell_type": "markdown",
      "source": [
        "# Similaridade textual"
      ],
      "metadata": {
        "id": "dr1lt9a0fXzr"
      }
    },
    {
      "cell_type": "code",
      "source": [
        "import pandas as pd\n",
        "import numpy as np"
      ],
      "metadata": {
        "id": "SawByQZffYoK"
      },
      "execution_count": 18,
      "outputs": []
    },
    {
      "cell_type": "code",
      "source": [
        "texts = ['Goku is a hero in the Dragon Ball since 1989! Goku saved the earth so many times.',\n",
        "         'The 7 Dragon balls can make wishes come true! Each ball contains his own dragon.',\n",
        "         'If the wishes are superfluous, the dragon balls will become dark.' ,\n",
        "         'Seiya is a bronze knight and is one of the main Knights of the Zodiac. He saved Athena several times.',\n",
        "         \"A knight of the zodiac wear a bronze, silver or a gold cloth to protect Athena.\",\n",
        "         'Saint Seiya: Knights of the Zodiac is a Japanese manga in which mystical warriors called the Saints fight wearing sacred cloths.']\n",
        "classes = ['Dragon Ball', 'Dragon Ball', 'Dragon Ball', 'Cav. Zod.', 'Cav. Zod.', 'Cav. Zod.']\n",
        "\n",
        "df = pd.DataFrame({'texts': texts, 'classes': classes})\n",
        "print(df)"
      ],
      "metadata": {
        "colab": {
          "base_uri": "https://localhost:8080/"
        },
        "id": "ufYMuuqUfeBC",
        "outputId": "9ba8a77d-9474-4d44-e04e-764c5d76d535"
      },
      "execution_count": 19,
      "outputs": [
        {
          "output_type": "stream",
          "name": "stdout",
          "text": [
            "                                               texts      classes\n",
            "0  Goku is a hero in the Dragon Ball since 1989! ...  Dragon Ball\n",
            "1  The 7 Dragon balls can make wishes come true! ...  Dragon Ball\n",
            "2  If the wishes are superfluous, the dragon ball...  Dragon Ball\n",
            "3  Seiya is a bronze knight and is one of the mai...    Cav. Zod.\n",
            "4  A knight of the zodiac wear a bronze, silver o...    Cav. Zod.\n",
            "5  Saint Seiya: Knights of the Zodiac is a Japane...    Cav. Zod.\n"
          ]
        }
      ]
    },
    {
      "cell_type": "markdown",
      "source": [
        "## Similaridade Textual baseada em caracteres - A distância de Levenshtein\n"
      ],
      "metadata": {
        "id": "Uu_6wSGCfjfq"
      }
    },
    {
      "cell_type": "code",
      "source": [
        "def levenshtein(seq1, seq2):\n",
        "    # criar uma matriz\n",
        "    size_x = len(seq1) + 1\n",
        "    size_y = len(seq2) + 1\n",
        "    matrix = np.zeros ((size_x, size_y))\n",
        "\n",
        "    # setar número de colunas (0, n-1)\n",
        "    for x in range(size_x):\n",
        "        matrix [x, 0] = x\n",
        "\n",
        "    # setar número de linhas (0, n-1)\n",
        "    for y in range(size_y):\n",
        "        matrix [0, y] = y\n",
        "\n",
        "    # calcular a distancia\n",
        "    for x in range(1, size_x):\n",
        "        for y in range(1, size_y):\n",
        "            # se os caracteres sao iguais, nao aumenta a distancia\n",
        "            if seq1[x-1] == seq2[y-1]:\n",
        "                matrix [x,y] = matrix[x-1, y-1]\n",
        "            # se são diferentes, aumenta a distancia em 1\n",
        "            else:\n",
        "                matrix [x,y] = min(\n",
        "                    matrix[x-1,y] + 1,\n",
        "                    matrix[x-1,y-1] + 1,\n",
        "                    matrix[x,y-1] + 1\n",
        "                )\n",
        "\n",
        "    # imprime a matriz de calculo da distancia\n",
        "    # list(seq1) converte string em uma lista de caracteres\n",
        "    print(pd.DataFrame(matrix[1:,1:], index=list(seq1), columns=list(seq2)))\n",
        "\n",
        "    return (matrix[size_x - 1, size_y - 1])"
      ],
      "metadata": {
        "id": "_X9J7fsBfkTz"
      },
      "execution_count": 20,
      "outputs": []
    },
    {
      "cell_type": "code",
      "source": [
        "levenshtein('medicina','medico')"
      ],
      "metadata": {
        "colab": {
          "base_uri": "https://localhost:8080/"
        },
        "id": "YFrMlccOf-ka",
        "outputId": "30928e0d-000b-40d2-80c7-6b7e298a2d1b"
      },
      "execution_count": 21,
      "outputs": [
        {
          "output_type": "stream",
          "name": "stdout",
          "text": [
            "     m    e    d    i    c    o\n",
            "m  0.0  1.0  2.0  3.0  4.0  5.0\n",
            "e  1.0  0.0  1.0  2.0  3.0  4.0\n",
            "d  2.0  1.0  0.0  1.0  2.0  3.0\n",
            "i  3.0  2.0  1.0  0.0  1.0  2.0\n",
            "c  4.0  3.0  2.0  1.0  0.0  1.0\n",
            "i  5.0  4.0  3.0  2.0  1.0  1.0\n",
            "n  6.0  5.0  4.0  3.0  2.0  2.0\n",
            "a  7.0  6.0  5.0  4.0  3.0  3.0\n"
          ]
        },
        {
          "output_type": "execute_result",
          "data": {
            "text/plain": [
              "np.float64(3.0)"
            ]
          },
          "metadata": {},
          "execution_count": 21
        }
      ]
    },
    {
      "cell_type": "code",
      "source": [
        "print(df)\n",
        "print (\"------\")\n",
        "doc_id_a = 3 # id do texto 1\n",
        "doc_id_b = 2 # id do texto 2\n",
        "print(\"texto 1: \",df.loc[doc_id_a]['texts'])\n",
        "print(\"texto 2: \",df.loc[doc_id_b]['texts'])\n",
        "print (\"------\")\n",
        "\n",
        "levenshtein(df.loc[doc_id_a]['texts'],df.loc[doc_id_b]['texts'])"
      ],
      "metadata": {
        "colab": {
          "base_uri": "https://localhost:8080/"
        },
        "id": "gVO3lFdvgCXE",
        "outputId": "70bd4813-58d5-4bc6-91ca-dd38f820de99"
      },
      "execution_count": 22,
      "outputs": [
        {
          "output_type": "stream",
          "name": "stdout",
          "text": [
            "                                               texts      classes\n",
            "0  Goku is a hero in the Dragon Ball since 1989! ...  Dragon Ball\n",
            "1  The 7 Dragon balls can make wishes come true! ...  Dragon Ball\n",
            "2  If the wishes are superfluous, the dragon ball...  Dragon Ball\n",
            "3  Seiya is a bronze knight and is one of the mai...    Cav. Zod.\n",
            "4  A knight of the zodiac wear a bronze, silver o...    Cav. Zod.\n",
            "5  Saint Seiya: Knights of the Zodiac is a Japane...    Cav. Zod.\n",
            "------\n",
            "texto 1:  Seiya is a bronze knight and is one of the main Knights of the Zodiac. He saved Athena several times.\n",
            "texto 2:  If the wishes are superfluous, the dragon balls will become dark.\n",
            "------\n",
            "        I      f           t     h     e           w     i     s  ...     c  \\\n",
            "S     1.0    2.0   3.0   4.0   5.0   6.0   7.0   8.0   9.0  10.0  ...  56.0   \n",
            "e     2.0    2.0   3.0   4.0   5.0   5.0   6.0   7.0   8.0   9.0  ...  55.0   \n",
            "i     3.0    3.0   3.0   4.0   5.0   6.0   6.0   7.0   7.0   8.0  ...  54.0   \n",
            "y     4.0    4.0   4.0   4.0   5.0   6.0   7.0   7.0   8.0   8.0  ...  54.0   \n",
            "a     5.0    5.0   5.0   5.0   5.0   6.0   7.0   8.0   8.0   9.0  ...  53.0   \n",
            "..    ...    ...   ...   ...   ...   ...   ...   ...   ...   ...  ...   ...   \n",
            "i    97.0   96.0  95.0  94.0  93.0  92.0  91.0  91.0  90.0  89.0  ...  74.0   \n",
            "m    98.0   97.0  96.0  95.0  94.0  93.0  92.0  92.0  91.0  90.0  ...  75.0   \n",
            "e    99.0   98.0  97.0  96.0  95.0  94.0  93.0  93.0  92.0  91.0  ...  76.0   \n",
            "s   100.0   99.0  98.0  97.0  96.0  95.0  94.0  94.0  93.0  92.0  ...  76.0   \n",
            ".   101.0  100.0  99.0  98.0  97.0  96.0  95.0  95.0  94.0  93.0  ...  77.0   \n",
            "\n",
            "       o     m     e           d     a     r     k     .  \n",
            "S   57.0  58.0  59.0  60.0  61.0  62.0  63.0  64.0  65.0  \n",
            "e   56.0  57.0  58.0  59.0  60.0  61.0  62.0  63.0  64.0  \n",
            "i   55.0  56.0  57.0  58.0  59.0  60.0  61.0  62.0  63.0  \n",
            "y   55.0  56.0  57.0  58.0  59.0  60.0  61.0  62.0  63.0  \n",
            "a   54.0  55.0  56.0  57.0  58.0  59.0  60.0  61.0  62.0  \n",
            "..   ...   ...   ...   ...   ...   ...   ...   ...   ...  \n",
            "i   74.0  74.0  74.0  73.0  73.0  73.0  74.0  75.0  75.0  \n",
            "m   75.0  74.0  75.0  74.0  74.0  74.0  74.0  75.0  76.0  \n",
            "e   76.0  75.0  74.0  75.0  75.0  75.0  75.0  75.0  76.0  \n",
            "s   77.0  76.0  75.0  75.0  76.0  76.0  76.0  76.0  76.0  \n",
            ".   77.0  77.0  76.0  76.0  76.0  77.0  77.0  77.0  76.0  \n",
            "\n",
            "[101 rows x 65 columns]\n"
          ]
        },
        {
          "output_type": "execute_result",
          "data": {
            "text/plain": [
              "np.float64(76.0)"
            ]
          },
          "metadata": {},
          "execution_count": 22
        }
      ]
    },
    {
      "cell_type": "markdown",
      "source": [
        "## Similaridade Textual baseada em Termos - Vetorizando os documentos de treinamento"
      ],
      "metadata": {
        "id": "iby1CXdygHlK"
      }
    },
    {
      "cell_type": "code",
      "source": [
        "from sklearn.feature_extraction.text import CountVectorizer\n",
        "\"\"\"Criando o objeto vetorizador (convertendo para letras minúsculas, removendo as stopwords especificadas em uma lista\n",
        "   e apenas mantendo os termos que ocorreram em dois ou mais documentos\"\"\"\n",
        "vetorizador = CountVectorizer(lowercase=True,\n",
        "                              stop_words=['is', 'are', 'a', 'or', 'to', 'in', 'the', 'so', 'since', 'many', 'of'],\n",
        "                              min_df=2,\n",
        "                              dtype=np.int16\n",
        "                              )"
      ],
      "metadata": {
        "id": "LbpS2U20gN1q"
      },
      "execution_count": 23,
      "outputs": []
    },
    {
      "cell_type": "code",
      "source": [
        "# Obtendo o vocabulário\n",
        "vetorizador.fit(df['texts'])"
      ],
      "metadata": {
        "colab": {
          "base_uri": "https://localhost:8080/",
          "height": 115
        },
        "id": "1MwvFCnUgSns",
        "outputId": "7a2f590f-c203-48af-fbf1-2d6a1a9c941d"
      },
      "execution_count": 24,
      "outputs": [
        {
          "output_type": "execute_result",
          "data": {
            "text/plain": [
              "CountVectorizer(dtype=<class 'numpy.int16'>, min_df=2,\n",
              "                stop_words=['is', 'are', 'a', 'or', 'to', 'in', 'the', 'so',\n",
              "                            'since', 'many', 'of'])"
            ],
            "text/html": [
              "<style>#sk-container-id-1 {\n",
              "  /* Definition of color scheme common for light and dark mode */\n",
              "  --sklearn-color-text: #000;\n",
              "  --sklearn-color-text-muted: #666;\n",
              "  --sklearn-color-line: gray;\n",
              "  /* Definition of color scheme for unfitted estimators */\n",
              "  --sklearn-color-unfitted-level-0: #fff5e6;\n",
              "  --sklearn-color-unfitted-level-1: #f6e4d2;\n",
              "  --sklearn-color-unfitted-level-2: #ffe0b3;\n",
              "  --sklearn-color-unfitted-level-3: chocolate;\n",
              "  /* Definition of color scheme for fitted estimators */\n",
              "  --sklearn-color-fitted-level-0: #f0f8ff;\n",
              "  --sklearn-color-fitted-level-1: #d4ebff;\n",
              "  --sklearn-color-fitted-level-2: #b3dbfd;\n",
              "  --sklearn-color-fitted-level-3: cornflowerblue;\n",
              "\n",
              "  /* Specific color for light theme */\n",
              "  --sklearn-color-text-on-default-background: var(--sg-text-color, var(--theme-code-foreground, var(--jp-content-font-color1, black)));\n",
              "  --sklearn-color-background: var(--sg-background-color, var(--theme-background, var(--jp-layout-color0, white)));\n",
              "  --sklearn-color-border-box: var(--sg-text-color, var(--theme-code-foreground, var(--jp-content-font-color1, black)));\n",
              "  --sklearn-color-icon: #696969;\n",
              "\n",
              "  @media (prefers-color-scheme: dark) {\n",
              "    /* Redefinition of color scheme for dark theme */\n",
              "    --sklearn-color-text-on-default-background: var(--sg-text-color, var(--theme-code-foreground, var(--jp-content-font-color1, white)));\n",
              "    --sklearn-color-background: var(--sg-background-color, var(--theme-background, var(--jp-layout-color0, #111)));\n",
              "    --sklearn-color-border-box: var(--sg-text-color, var(--theme-code-foreground, var(--jp-content-font-color1, white)));\n",
              "    --sklearn-color-icon: #878787;\n",
              "  }\n",
              "}\n",
              "\n",
              "#sk-container-id-1 {\n",
              "  color: var(--sklearn-color-text);\n",
              "}\n",
              "\n",
              "#sk-container-id-1 pre {\n",
              "  padding: 0;\n",
              "}\n",
              "\n",
              "#sk-container-id-1 input.sk-hidden--visually {\n",
              "  border: 0;\n",
              "  clip: rect(1px 1px 1px 1px);\n",
              "  clip: rect(1px, 1px, 1px, 1px);\n",
              "  height: 1px;\n",
              "  margin: -1px;\n",
              "  overflow: hidden;\n",
              "  padding: 0;\n",
              "  position: absolute;\n",
              "  width: 1px;\n",
              "}\n",
              "\n",
              "#sk-container-id-1 div.sk-dashed-wrapped {\n",
              "  border: 1px dashed var(--sklearn-color-line);\n",
              "  margin: 0 0.4em 0.5em 0.4em;\n",
              "  box-sizing: border-box;\n",
              "  padding-bottom: 0.4em;\n",
              "  background-color: var(--sklearn-color-background);\n",
              "}\n",
              "\n",
              "#sk-container-id-1 div.sk-container {\n",
              "  /* jupyter's `normalize.less` sets `[hidden] { display: none; }`\n",
              "     but bootstrap.min.css set `[hidden] { display: none !important; }`\n",
              "     so we also need the `!important` here to be able to override the\n",
              "     default hidden behavior on the sphinx rendered scikit-learn.org.\n",
              "     See: https://github.com/scikit-learn/scikit-learn/issues/21755 */\n",
              "  display: inline-block !important;\n",
              "  position: relative;\n",
              "}\n",
              "\n",
              "#sk-container-id-1 div.sk-text-repr-fallback {\n",
              "  display: none;\n",
              "}\n",
              "\n",
              "div.sk-parallel-item,\n",
              "div.sk-serial,\n",
              "div.sk-item {\n",
              "  /* draw centered vertical line to link estimators */\n",
              "  background-image: linear-gradient(var(--sklearn-color-text-on-default-background), var(--sklearn-color-text-on-default-background));\n",
              "  background-size: 2px 100%;\n",
              "  background-repeat: no-repeat;\n",
              "  background-position: center center;\n",
              "}\n",
              "\n",
              "/* Parallel-specific style estimator block */\n",
              "\n",
              "#sk-container-id-1 div.sk-parallel-item::after {\n",
              "  content: \"\";\n",
              "  width: 100%;\n",
              "  border-bottom: 2px solid var(--sklearn-color-text-on-default-background);\n",
              "  flex-grow: 1;\n",
              "}\n",
              "\n",
              "#sk-container-id-1 div.sk-parallel {\n",
              "  display: flex;\n",
              "  align-items: stretch;\n",
              "  justify-content: center;\n",
              "  background-color: var(--sklearn-color-background);\n",
              "  position: relative;\n",
              "}\n",
              "\n",
              "#sk-container-id-1 div.sk-parallel-item {\n",
              "  display: flex;\n",
              "  flex-direction: column;\n",
              "}\n",
              "\n",
              "#sk-container-id-1 div.sk-parallel-item:first-child::after {\n",
              "  align-self: flex-end;\n",
              "  width: 50%;\n",
              "}\n",
              "\n",
              "#sk-container-id-1 div.sk-parallel-item:last-child::after {\n",
              "  align-self: flex-start;\n",
              "  width: 50%;\n",
              "}\n",
              "\n",
              "#sk-container-id-1 div.sk-parallel-item:only-child::after {\n",
              "  width: 0;\n",
              "}\n",
              "\n",
              "/* Serial-specific style estimator block */\n",
              "\n",
              "#sk-container-id-1 div.sk-serial {\n",
              "  display: flex;\n",
              "  flex-direction: column;\n",
              "  align-items: center;\n",
              "  background-color: var(--sklearn-color-background);\n",
              "  padding-right: 1em;\n",
              "  padding-left: 1em;\n",
              "}\n",
              "\n",
              "\n",
              "/* Toggleable style: style used for estimator/Pipeline/ColumnTransformer box that is\n",
              "clickable and can be expanded/collapsed.\n",
              "- Pipeline and ColumnTransformer use this feature and define the default style\n",
              "- Estimators will overwrite some part of the style using the `sk-estimator` class\n",
              "*/\n",
              "\n",
              "/* Pipeline and ColumnTransformer style (default) */\n",
              "\n",
              "#sk-container-id-1 div.sk-toggleable {\n",
              "  /* Default theme specific background. It is overwritten whether we have a\n",
              "  specific estimator or a Pipeline/ColumnTransformer */\n",
              "  background-color: var(--sklearn-color-background);\n",
              "}\n",
              "\n",
              "/* Toggleable label */\n",
              "#sk-container-id-1 label.sk-toggleable__label {\n",
              "  cursor: pointer;\n",
              "  display: flex;\n",
              "  width: 100%;\n",
              "  margin-bottom: 0;\n",
              "  padding: 0.5em;\n",
              "  box-sizing: border-box;\n",
              "  text-align: center;\n",
              "  align-items: start;\n",
              "  justify-content: space-between;\n",
              "  gap: 0.5em;\n",
              "}\n",
              "\n",
              "#sk-container-id-1 label.sk-toggleable__label .caption {\n",
              "  font-size: 0.6rem;\n",
              "  font-weight: lighter;\n",
              "  color: var(--sklearn-color-text-muted);\n",
              "}\n",
              "\n",
              "#sk-container-id-1 label.sk-toggleable__label-arrow:before {\n",
              "  /* Arrow on the left of the label */\n",
              "  content: \"▸\";\n",
              "  float: left;\n",
              "  margin-right: 0.25em;\n",
              "  color: var(--sklearn-color-icon);\n",
              "}\n",
              "\n",
              "#sk-container-id-1 label.sk-toggleable__label-arrow:hover:before {\n",
              "  color: var(--sklearn-color-text);\n",
              "}\n",
              "\n",
              "/* Toggleable content - dropdown */\n",
              "\n",
              "#sk-container-id-1 div.sk-toggleable__content {\n",
              "  max-height: 0;\n",
              "  max-width: 0;\n",
              "  overflow: hidden;\n",
              "  text-align: left;\n",
              "  /* unfitted */\n",
              "  background-color: var(--sklearn-color-unfitted-level-0);\n",
              "}\n",
              "\n",
              "#sk-container-id-1 div.sk-toggleable__content.fitted {\n",
              "  /* fitted */\n",
              "  background-color: var(--sklearn-color-fitted-level-0);\n",
              "}\n",
              "\n",
              "#sk-container-id-1 div.sk-toggleable__content pre {\n",
              "  margin: 0.2em;\n",
              "  border-radius: 0.25em;\n",
              "  color: var(--sklearn-color-text);\n",
              "  /* unfitted */\n",
              "  background-color: var(--sklearn-color-unfitted-level-0);\n",
              "}\n",
              "\n",
              "#sk-container-id-1 div.sk-toggleable__content.fitted pre {\n",
              "  /* unfitted */\n",
              "  background-color: var(--sklearn-color-fitted-level-0);\n",
              "}\n",
              "\n",
              "#sk-container-id-1 input.sk-toggleable__control:checked~div.sk-toggleable__content {\n",
              "  /* Expand drop-down */\n",
              "  max-height: 200px;\n",
              "  max-width: 100%;\n",
              "  overflow: auto;\n",
              "}\n",
              "\n",
              "#sk-container-id-1 input.sk-toggleable__control:checked~label.sk-toggleable__label-arrow:before {\n",
              "  content: \"▾\";\n",
              "}\n",
              "\n",
              "/* Pipeline/ColumnTransformer-specific style */\n",
              "\n",
              "#sk-container-id-1 div.sk-label input.sk-toggleable__control:checked~label.sk-toggleable__label {\n",
              "  color: var(--sklearn-color-text);\n",
              "  background-color: var(--sklearn-color-unfitted-level-2);\n",
              "}\n",
              "\n",
              "#sk-container-id-1 div.sk-label.fitted input.sk-toggleable__control:checked~label.sk-toggleable__label {\n",
              "  background-color: var(--sklearn-color-fitted-level-2);\n",
              "}\n",
              "\n",
              "/* Estimator-specific style */\n",
              "\n",
              "/* Colorize estimator box */\n",
              "#sk-container-id-1 div.sk-estimator input.sk-toggleable__control:checked~label.sk-toggleable__label {\n",
              "  /* unfitted */\n",
              "  background-color: var(--sklearn-color-unfitted-level-2);\n",
              "}\n",
              "\n",
              "#sk-container-id-1 div.sk-estimator.fitted input.sk-toggleable__control:checked~label.sk-toggleable__label {\n",
              "  /* fitted */\n",
              "  background-color: var(--sklearn-color-fitted-level-2);\n",
              "}\n",
              "\n",
              "#sk-container-id-1 div.sk-label label.sk-toggleable__label,\n",
              "#sk-container-id-1 div.sk-label label {\n",
              "  /* The background is the default theme color */\n",
              "  color: var(--sklearn-color-text-on-default-background);\n",
              "}\n",
              "\n",
              "/* On hover, darken the color of the background */\n",
              "#sk-container-id-1 div.sk-label:hover label.sk-toggleable__label {\n",
              "  color: var(--sklearn-color-text);\n",
              "  background-color: var(--sklearn-color-unfitted-level-2);\n",
              "}\n",
              "\n",
              "/* Label box, darken color on hover, fitted */\n",
              "#sk-container-id-1 div.sk-label.fitted:hover label.sk-toggleable__label.fitted {\n",
              "  color: var(--sklearn-color-text);\n",
              "  background-color: var(--sklearn-color-fitted-level-2);\n",
              "}\n",
              "\n",
              "/* Estimator label */\n",
              "\n",
              "#sk-container-id-1 div.sk-label label {\n",
              "  font-family: monospace;\n",
              "  font-weight: bold;\n",
              "  display: inline-block;\n",
              "  line-height: 1.2em;\n",
              "}\n",
              "\n",
              "#sk-container-id-1 div.sk-label-container {\n",
              "  text-align: center;\n",
              "}\n",
              "\n",
              "/* Estimator-specific */\n",
              "#sk-container-id-1 div.sk-estimator {\n",
              "  font-family: monospace;\n",
              "  border: 1px dotted var(--sklearn-color-border-box);\n",
              "  border-radius: 0.25em;\n",
              "  box-sizing: border-box;\n",
              "  margin-bottom: 0.5em;\n",
              "  /* unfitted */\n",
              "  background-color: var(--sklearn-color-unfitted-level-0);\n",
              "}\n",
              "\n",
              "#sk-container-id-1 div.sk-estimator.fitted {\n",
              "  /* fitted */\n",
              "  background-color: var(--sklearn-color-fitted-level-0);\n",
              "}\n",
              "\n",
              "/* on hover */\n",
              "#sk-container-id-1 div.sk-estimator:hover {\n",
              "  /* unfitted */\n",
              "  background-color: var(--sklearn-color-unfitted-level-2);\n",
              "}\n",
              "\n",
              "#sk-container-id-1 div.sk-estimator.fitted:hover {\n",
              "  /* fitted */\n",
              "  background-color: var(--sklearn-color-fitted-level-2);\n",
              "}\n",
              "\n",
              "/* Specification for estimator info (e.g. \"i\" and \"?\") */\n",
              "\n",
              "/* Common style for \"i\" and \"?\" */\n",
              "\n",
              ".sk-estimator-doc-link,\n",
              "a:link.sk-estimator-doc-link,\n",
              "a:visited.sk-estimator-doc-link {\n",
              "  float: right;\n",
              "  font-size: smaller;\n",
              "  line-height: 1em;\n",
              "  font-family: monospace;\n",
              "  background-color: var(--sklearn-color-background);\n",
              "  border-radius: 1em;\n",
              "  height: 1em;\n",
              "  width: 1em;\n",
              "  text-decoration: none !important;\n",
              "  margin-left: 0.5em;\n",
              "  text-align: center;\n",
              "  /* unfitted */\n",
              "  border: var(--sklearn-color-unfitted-level-1) 1pt solid;\n",
              "  color: var(--sklearn-color-unfitted-level-1);\n",
              "}\n",
              "\n",
              ".sk-estimator-doc-link.fitted,\n",
              "a:link.sk-estimator-doc-link.fitted,\n",
              "a:visited.sk-estimator-doc-link.fitted {\n",
              "  /* fitted */\n",
              "  border: var(--sklearn-color-fitted-level-1) 1pt solid;\n",
              "  color: var(--sklearn-color-fitted-level-1);\n",
              "}\n",
              "\n",
              "/* On hover */\n",
              "div.sk-estimator:hover .sk-estimator-doc-link:hover,\n",
              ".sk-estimator-doc-link:hover,\n",
              "div.sk-label-container:hover .sk-estimator-doc-link:hover,\n",
              ".sk-estimator-doc-link:hover {\n",
              "  /* unfitted */\n",
              "  background-color: var(--sklearn-color-unfitted-level-3);\n",
              "  color: var(--sklearn-color-background);\n",
              "  text-decoration: none;\n",
              "}\n",
              "\n",
              "div.sk-estimator.fitted:hover .sk-estimator-doc-link.fitted:hover,\n",
              ".sk-estimator-doc-link.fitted:hover,\n",
              "div.sk-label-container:hover .sk-estimator-doc-link.fitted:hover,\n",
              ".sk-estimator-doc-link.fitted:hover {\n",
              "  /* fitted */\n",
              "  background-color: var(--sklearn-color-fitted-level-3);\n",
              "  color: var(--sklearn-color-background);\n",
              "  text-decoration: none;\n",
              "}\n",
              "\n",
              "/* Span, style for the box shown on hovering the info icon */\n",
              ".sk-estimator-doc-link span {\n",
              "  display: none;\n",
              "  z-index: 9999;\n",
              "  position: relative;\n",
              "  font-weight: normal;\n",
              "  right: .2ex;\n",
              "  padding: .5ex;\n",
              "  margin: .5ex;\n",
              "  width: min-content;\n",
              "  min-width: 20ex;\n",
              "  max-width: 50ex;\n",
              "  color: var(--sklearn-color-text);\n",
              "  box-shadow: 2pt 2pt 4pt #999;\n",
              "  /* unfitted */\n",
              "  background: var(--sklearn-color-unfitted-level-0);\n",
              "  border: .5pt solid var(--sklearn-color-unfitted-level-3);\n",
              "}\n",
              "\n",
              ".sk-estimator-doc-link.fitted span {\n",
              "  /* fitted */\n",
              "  background: var(--sklearn-color-fitted-level-0);\n",
              "  border: var(--sklearn-color-fitted-level-3);\n",
              "}\n",
              "\n",
              ".sk-estimator-doc-link:hover span {\n",
              "  display: block;\n",
              "}\n",
              "\n",
              "/* \"?\"-specific style due to the `<a>` HTML tag */\n",
              "\n",
              "#sk-container-id-1 a.estimator_doc_link {\n",
              "  float: right;\n",
              "  font-size: 1rem;\n",
              "  line-height: 1em;\n",
              "  font-family: monospace;\n",
              "  background-color: var(--sklearn-color-background);\n",
              "  border-radius: 1rem;\n",
              "  height: 1rem;\n",
              "  width: 1rem;\n",
              "  text-decoration: none;\n",
              "  /* unfitted */\n",
              "  color: var(--sklearn-color-unfitted-level-1);\n",
              "  border: var(--sklearn-color-unfitted-level-1) 1pt solid;\n",
              "}\n",
              "\n",
              "#sk-container-id-1 a.estimator_doc_link.fitted {\n",
              "  /* fitted */\n",
              "  border: var(--sklearn-color-fitted-level-1) 1pt solid;\n",
              "  color: var(--sklearn-color-fitted-level-1);\n",
              "}\n",
              "\n",
              "/* On hover */\n",
              "#sk-container-id-1 a.estimator_doc_link:hover {\n",
              "  /* unfitted */\n",
              "  background-color: var(--sklearn-color-unfitted-level-3);\n",
              "  color: var(--sklearn-color-background);\n",
              "  text-decoration: none;\n",
              "}\n",
              "\n",
              "#sk-container-id-1 a.estimator_doc_link.fitted:hover {\n",
              "  /* fitted */\n",
              "  background-color: var(--sklearn-color-fitted-level-3);\n",
              "}\n",
              "</style><div id=\"sk-container-id-1\" class=\"sk-top-container\"><div class=\"sk-text-repr-fallback\"><pre>CountVectorizer(dtype=&lt;class &#x27;numpy.int16&#x27;&gt;, min_df=2,\n",
              "                stop_words=[&#x27;is&#x27;, &#x27;are&#x27;, &#x27;a&#x27;, &#x27;or&#x27;, &#x27;to&#x27;, &#x27;in&#x27;, &#x27;the&#x27;, &#x27;so&#x27;,\n",
              "                            &#x27;since&#x27;, &#x27;many&#x27;, &#x27;of&#x27;])</pre><b>In a Jupyter environment, please rerun this cell to show the HTML representation or trust the notebook. <br />On GitHub, the HTML representation is unable to render, please try loading this page with nbviewer.org.</b></div><div class=\"sk-container\" hidden><div class=\"sk-item\"><div class=\"sk-estimator fitted sk-toggleable\"><input class=\"sk-toggleable__control sk-hidden--visually\" id=\"sk-estimator-id-1\" type=\"checkbox\" checked><label for=\"sk-estimator-id-1\" class=\"sk-toggleable__label fitted sk-toggleable__label-arrow\"><div><div>CountVectorizer</div></div><div><a class=\"sk-estimator-doc-link fitted\" rel=\"noreferrer\" target=\"_blank\" href=\"https://scikit-learn.org/1.6/modules/generated/sklearn.feature_extraction.text.CountVectorizer.html\">?<span>Documentation for CountVectorizer</span></a><span class=\"sk-estimator-doc-link fitted\">i<span>Fitted</span></span></div></label><div class=\"sk-toggleable__content fitted\"><pre>CountVectorizer(dtype=&lt;class &#x27;numpy.int16&#x27;&gt;, min_df=2,\n",
              "                stop_words=[&#x27;is&#x27;, &#x27;are&#x27;, &#x27;a&#x27;, &#x27;or&#x27;, &#x27;to&#x27;, &#x27;in&#x27;, &#x27;the&#x27;, &#x27;so&#x27;,\n",
              "                            &#x27;since&#x27;, &#x27;many&#x27;, &#x27;of&#x27;])</pre></div> </div></div></div></div>"
            ]
          },
          "metadata": {},
          "execution_count": 24
        }
      ]
    },
    {
      "cell_type": "code",
      "source": [
        "# Gerando a representação estruturada a partir do vocabulário ajustado\n",
        "representacao = vetorizador.transform(df['texts'])\n",
        "# A representação retornada é uma matriz em um formato esparso  (posso gerar o array usando toArray())\n",
        "representacao\n",
        "rep_array = representacao.toarray() # a partir daqui podemos aplicar as funções de similaridade\n",
        "print(rep_array)"
      ],
      "metadata": {
        "colab": {
          "base_uri": "https://localhost:8080/"
        },
        "id": "X05m-c4cgWIK",
        "outputId": "f391ee52-1d67-4a8b-8db2-e42fd0a1e190"
      },
      "execution_count": 25,
      "outputs": [
        {
          "output_type": "stream",
          "name": "stdout",
          "text": [
            "[[0 1 0 0 1 0 0 1 0 1 0 0]\n",
            " [0 1 1 0 2 0 0 0 0 0 1 0]\n",
            " [0 0 1 0 1 0 0 0 0 0 1 0]\n",
            " [1 0 0 1 0 1 1 1 1 1 0 1]\n",
            " [1 0 0 1 0 1 0 0 0 0 0 1]\n",
            " [0 0 0 0 0 0 1 0 1 0 0 1]]\n"
          ]
        }
      ]
    },
    {
      "cell_type": "markdown",
      "source": [
        "### Cosseno"
      ],
      "metadata": {
        "id": "ZEslS8tAgbBK"
      }
    },
    {
      "cell_type": "code",
      "source": [
        "from sklearn.metrics.pairwise import cosine_similarity\n",
        "matrix_sim = cosine_similarity(rep_array)"
      ],
      "metadata": {
        "id": "xT8Yf9dbgbea"
      },
      "execution_count": 26,
      "outputs": []
    },
    {
      "cell_type": "code",
      "source": [
        "matrix_sim"
      ],
      "metadata": {
        "colab": {
          "base_uri": "https://localhost:8080/"
        },
        "id": "xwyb8M6hggGq",
        "outputId": "4961a491-d0c3-4292-d54b-36fbb07b39c0"
      },
      "execution_count": 27,
      "outputs": [
        {
          "output_type": "execute_result",
          "data": {
            "text/plain": [
              "array([[1.        , 0.56694671, 0.28867513, 0.35355339, 0.        ,\n",
              "        0.        ],\n",
              "       [0.56694671, 1.        , 0.87287156, 0.        , 0.        ,\n",
              "        0.        ],\n",
              "       [0.28867513, 0.87287156, 1.        , 0.        , 0.        ,\n",
              "        0.        ],\n",
              "       [0.35355339, 0.        , 0.        , 1.        , 0.70710678,\n",
              "        0.61237244],\n",
              "       [0.        , 0.        , 0.        , 0.70710678, 1.        ,\n",
              "        0.28867513],\n",
              "       [0.        , 0.        , 0.        , 0.61237244, 0.28867513,\n",
              "        1.        ]])"
            ]
          },
          "metadata": {},
          "execution_count": 27
        }
      ]
    },
    {
      "cell_type": "code",
      "source": [
        "def most_similar(id_doc, matrix):\n",
        "  matrix_sim = cosine_similarity(matrix)\n",
        "  best_sim = -1\n",
        "  id_best_sim = -1;\n",
        "  for id, doc_sim in enumerate(matrix_sim[id_doc]):\n",
        "    if id != id_doc:\n",
        "      if doc_sim > best_sim:\n",
        "        best_sim = doc_sim\n",
        "        id_best_sim = id\n",
        "  return id_best_sim"
      ],
      "metadata": {
        "id": "KCx7O81Jglrq"
      },
      "execution_count": 28,
      "outputs": []
    },
    {
      "cell_type": "code",
      "source": [
        "print(df)\n",
        "print (\"------\")\n",
        "doc_id = 5\n",
        "print(\"Texto: \", df.loc[doc_id]['texts'])\n",
        "print(\"Texto mais parecido: \", df.loc[most_similar(doc_id, rep_array)]['texts'])"
      ],
      "metadata": {
        "colab": {
          "base_uri": "https://localhost:8080/"
        },
        "id": "iZSlXWzqgpKd",
        "outputId": "8acc1cd3-c122-4546-f5a7-04dbc7b502c0"
      },
      "execution_count": 29,
      "outputs": [
        {
          "output_type": "stream",
          "name": "stdout",
          "text": [
            "                                               texts      classes\n",
            "0  Goku is a hero in the Dragon Ball since 1989! ...  Dragon Ball\n",
            "1  The 7 Dragon balls can make wishes come true! ...  Dragon Ball\n",
            "2  If the wishes are superfluous, the dragon ball...  Dragon Ball\n",
            "3  Seiya is a bronze knight and is one of the mai...    Cav. Zod.\n",
            "4  A knight of the zodiac wear a bronze, silver o...    Cav. Zod.\n",
            "5  Saint Seiya: Knights of the Zodiac is a Japane...    Cav. Zod.\n",
            "------\n",
            "Texto:  Saint Seiya: Knights of the Zodiac is a Japanese manga in which mystical warriors called the Saints fight wearing sacred cloths.\n",
            "Texto mais parecido:  Seiya is a bronze knight and is one of the main Knights of the Zodiac. He saved Athena several times.\n"
          ]
        }
      ]
    },
    {
      "cell_type": "markdown",
      "source": [
        "### Jaccard"
      ],
      "metadata": {
        "id": "D7IrEFHbgr_M"
      }
    },
    {
      "cell_type": "markdown",
      "source": [
        "\"O índice de Jaccard é uma estatística para comparar e medir a semelhança entre dois conjuntos diferentes. É uma proporção da interseção de dois conjuntos sobre a união deles.\n",
        "\n",
        "Se você tiver um número finito representativo de elementos para uma observação específica e quiser comparar essa observação com outra observação, poderá contar o número de itens comuns a esses dois conjuntos. É um ajuste natural para comparar postagens se você conhece as *tags* representativas das postagens para medir o quão semelhantes dois artigos são em termos de *tags*.\""
      ],
      "metadata": {
        "id": "FHj8mNbMgwPK"
      }
    },
    {
      "cell_type": "code",
      "source": [
        "from sklearn.metrics import pairwise_distances"
      ],
      "metadata": {
        "id": "uBfcEY0LgzOx"
      },
      "execution_count": 30,
      "outputs": []
    },
    {
      "cell_type": "code",
      "source": [
        "def most_similar(id_doc, matrix):\n",
        "  matrix_sim = 1 - pairwise_distances(matrix, metric='jaccard') # como é medida de distância (valor entre 0 e 1), utilizar o complemento\n",
        "  best_sim = -1\n",
        "  id_best_sim = -1;\n",
        "  for id, doc_sim in enumerate(matrix_sim[id_doc]):\n",
        "    if id != id_doc:\n",
        "      if doc_sim > best_sim:\n",
        "        best_sim = doc_sim\n",
        "        id_best_sim = id\n",
        "  return id_best_sim"
      ],
      "metadata": {
        "id": "AqCdqCmcg7NJ"
      },
      "execution_count": 31,
      "outputs": []
    },
    {
      "cell_type": "code",
      "source": [
        "matrix_sim = 1 - pairwise_distances(rep_array, metric='jaccard')\n",
        "matrix_sim"
      ],
      "metadata": {
        "colab": {
          "base_uri": "https://localhost:8080/"
        },
        "id": "FhKPXVung982",
        "outputId": "b94c5b1a-5f29-4b88-f2c0-88b00415f752"
      },
      "execution_count": 32,
      "outputs": [
        {
          "output_type": "stream",
          "name": "stderr",
          "text": [
            "/usr/local/lib/python3.11/dist-packages/sklearn/metrics/pairwise.py:2466: DataConversionWarning: Data was converted to boolean for metric jaccard\n",
            "  warnings.warn(msg, DataConversionWarning)\n"
          ]
        },
        {
          "output_type": "execute_result",
          "data": {
            "text/plain": [
              "array([[1.        , 0.33333333, 0.16666667, 0.2       , 0.        ,\n",
              "        0.        ],\n",
              "       [0.33333333, 1.        , 0.75      , 0.        , 0.        ,\n",
              "        0.        ],\n",
              "       [0.16666667, 0.75      , 1.        , 0.        , 0.        ,\n",
              "        0.        ],\n",
              "       [0.2       , 0.        , 0.        , 1.        , 0.5       ,\n",
              "        0.375     ],\n",
              "       [0.        , 0.        , 0.        , 0.5       , 1.        ,\n",
              "        0.16666667],\n",
              "       [0.        , 0.        , 0.        , 0.375     , 0.16666667,\n",
              "        1.        ]])"
            ]
          },
          "metadata": {},
          "execution_count": 32
        }
      ]
    },
    {
      "cell_type": "code",
      "source": [
        "import warnings\n",
        "warnings.filterwarnings(\"ignore\") # não imprimir o warning por não utilizar valores binários\n",
        "\n",
        "print(df)\n",
        "print (\"------\")\n",
        "doc_id = 5\n",
        "print(\"Texto: \", df.loc[doc_id]['texts'])\n",
        "print(\"Texto mais parecido: \", df.loc[most_similar(doc_id, rep_array)]['texts'])"
      ],
      "metadata": {
        "colab": {
          "base_uri": "https://localhost:8080/"
        },
        "id": "ArArYFK8hBSS",
        "outputId": "8989bd63-db0e-479b-9f73-508a601af9f9"
      },
      "execution_count": 33,
      "outputs": [
        {
          "output_type": "stream",
          "name": "stdout",
          "text": [
            "                                               texts      classes\n",
            "0  Goku is a hero in the Dragon Ball since 1989! ...  Dragon Ball\n",
            "1  The 7 Dragon balls can make wishes come true! ...  Dragon Ball\n",
            "2  If the wishes are superfluous, the dragon ball...  Dragon Ball\n",
            "3  Seiya is a bronze knight and is one of the mai...    Cav. Zod.\n",
            "4  A knight of the zodiac wear a bronze, silver o...    Cav. Zod.\n",
            "5  Saint Seiya: Knights of the Zodiac is a Japane...    Cav. Zod.\n",
            "------\n",
            "Texto:  Saint Seiya: Knights of the Zodiac is a Japanese manga in which mystical warriors called the Saints fight wearing sacred cloths.\n",
            "Texto mais parecido:  Seiya is a bronze knight and is one of the main Knights of the Zodiac. He saved Athena several times.\n"
          ]
        }
      ]
    },
    {
      "cell_type": "markdown",
      "source": [
        "### Jaccard backup (testar depois com os mesmos textos das outras)"
      ],
      "metadata": {
        "id": "5Skx5gs_hGTd"
      }
    },
    {
      "cell_type": "code",
      "source": [
        "def jaccard_similarity(x,y):\n",
        "  \"\"\" retorna a similaridade de jaccard entre duas listas \"\"\"\n",
        "  intersection_cardinality = len(set.intersection(*[set(x), set(y)]))\n",
        "  union_cardinality = len(set.union(*[set(x), set(y)]))\n",
        "  return intersection_cardinality/float(union_cardinality)\n",
        "\n",
        "texto1 = rep_array[5]\n",
        "texto2 = rep_array[3]\n",
        "\n",
        "print(texto1)\n",
        "print(texto2)\n",
        "\n",
        "print(jaccard_similarity(texto1, texto2))\n",
        "\n",
        "print(matrix_sim[5][3])"
      ],
      "metadata": {
        "colab": {
          "base_uri": "https://localhost:8080/"
        },
        "id": "WZPU8mUdhG2p",
        "outputId": "08fa0f86-cefe-475b-d11c-c7dc11ddcdc4"
      },
      "execution_count": 34,
      "outputs": [
        {
          "output_type": "stream",
          "name": "stdout",
          "text": [
            "[0 0 0 0 0 0 1 0 1 0 0 1]\n",
            "[1 0 0 1 0 1 1 1 1 1 0 1]\n",
            "1.0\n",
            "0.375\n"
          ]
        }
      ]
    },
    {
      "cell_type": "markdown",
      "source": [
        "### Euclidiana"
      ],
      "metadata": {
        "id": "kbKz0CzrhLT6"
      }
    },
    {
      "cell_type": "code",
      "source": [
        "def most_similar(id_doc, matrix):\n",
        "  matrix_sim = pairwise_distances(matrix, metric='euclidean')\n",
        "  best_sim = 99999999\n",
        "  id_best_sim = -1;\n",
        "  for id, doc_sim in enumerate(matrix_sim[id_doc]):\n",
        "    if id != id_doc:\n",
        "      if doc_sim <= best_sim:\n",
        "        best_sim = doc_sim\n",
        "        id_best_sim = id\n",
        "  return id_best_sim"
      ],
      "metadata": {
        "id": "3puwxYjIhLvK"
      },
      "execution_count": 35,
      "outputs": []
    },
    {
      "cell_type": "code",
      "source": [
        "matrix_sim = pairwise_distances(rep_array, metric='euclidean')\n",
        "matrix_sim"
      ],
      "metadata": {
        "colab": {
          "base_uri": "https://localhost:8080/"
        },
        "id": "FGW3lGR3hPer",
        "outputId": "e5e82219-7488-4ba9-ca77-f4fd33bd061f"
      },
      "execution_count": 36,
      "outputs": [
        {
          "output_type": "execute_result",
          "data": {
            "text/plain": [
              "array([[0.        , 2.23606798, 2.23606798, 2.82842712, 2.82842712,\n",
              "        2.64575131],\n",
              "       [2.23606798, 0.        , 1.41421356, 3.87298335, 3.31662479,\n",
              "        3.16227766],\n",
              "       [2.23606798, 1.41421356, 0.        , 3.31662479, 2.64575131,\n",
              "        2.44948974],\n",
              "       [2.82842712, 3.87298335, 3.31662479, 0.        , 2.        ,\n",
              "        2.23606798],\n",
              "       [2.82842712, 3.31662479, 2.64575131, 2.        , 0.        ,\n",
              "        2.23606798],\n",
              "       [2.64575131, 3.16227766, 2.44948974, 2.23606798, 2.23606798,\n",
              "        0.        ]])"
            ]
          },
          "metadata": {},
          "execution_count": 36
        }
      ]
    },
    {
      "cell_type": "code",
      "source": [
        "print(df)\n",
        "print (\"------\")\n",
        "doc_id = 5\n",
        "#df.loc[doc_id]['texts']\n",
        "df.loc[most_similar(doc_id, rep_array)]['texts']"
      ],
      "metadata": {
        "colab": {
          "base_uri": "https://localhost:8080/",
          "height": 174
        },
        "id": "SaJoJ0L6hSmq",
        "outputId": "260b4210-0288-4d5a-d2a1-bfbb5c826af0"
      },
      "execution_count": 37,
      "outputs": [
        {
          "output_type": "stream",
          "name": "stdout",
          "text": [
            "                                               texts      classes\n",
            "0  Goku is a hero in the Dragon Ball since 1989! ...  Dragon Ball\n",
            "1  The 7 Dragon balls can make wishes come true! ...  Dragon Ball\n",
            "2  If the wishes are superfluous, the dragon ball...  Dragon Ball\n",
            "3  Seiya is a bronze knight and is one of the mai...    Cav. Zod.\n",
            "4  A knight of the zodiac wear a bronze, silver o...    Cav. Zod.\n",
            "5  Saint Seiya: Knights of the Zodiac is a Japane...    Cav. Zod.\n",
            "------\n"
          ]
        },
        {
          "output_type": "execute_result",
          "data": {
            "text/plain": [
              "'A knight of the zodiac wear a bronze, silver or a gold cloth to protect Athena.'"
            ],
            "application/vnd.google.colaboratory.intrinsic+json": {
              "type": "string"
            }
          },
          "metadata": {},
          "execution_count": 37
        }
      ]
    }
  ]
}